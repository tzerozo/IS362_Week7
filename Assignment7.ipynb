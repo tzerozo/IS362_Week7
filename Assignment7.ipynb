{
 "cells": [
  {
   "cell_type": "markdown",
   "id": "064463fa",
   "metadata": {},
   "source": [
    "Lang Tuang | IS362 | Week7 Assignment \n",
    "Pre: Choose 6 recent movies. Ask 5 friends to rate each movie on a scale of 1 to 5.\n",
    "    Save it in .csv file. Load into pandas dataframe.\n",
    "    \n",
    "1. Load ratings by user information that you collected into a pandas dataframe.\n",
    "2. show average ratings for each user and each movie.\n",
    "3. create new pandas dataframe, with normalized ratings for each user. show average of each user and movie.\n",
    "4. provide text-based conclusion: explain what might be advantages and disadvanatges of using normalized ratings instead of actual ratings.\n",
    "5. (extra credit) create another dataframe, with standardized ratings for each user. show average ratings for each user and movie."
   ]
  },
  {
   "cell_type": "markdown",
   "id": "8c6e584c",
   "metadata": {},
   "source": [
    "PRE: import necessary methods as usual"
   ]
  },
  {
   "cell_type": "code",
   "execution_count": 1,
   "id": "878c6f1c",
   "metadata": {},
   "outputs": [],
   "source": [
    "import numpy as num\n",
    "import pandas as pan"
   ]
  },
  {
   "cell_type": "markdown",
   "id": "c4e47faa",
   "metadata": {},
   "source": [
    "1. Load data file into pandas dataframe"
   ]
  },
  {
   "cell_type": "code",
   "execution_count": 3,
   "id": "683ae075",
   "metadata": {},
   "outputs": [],
   "source": [
    "ratings = pan.read_csv(\"C:/Users/lang/Desktop/SPS/IS362/week7/movies.csv\")"
   ]
  },
  {
   "cell_type": "markdown",
   "id": "353b4702",
   "metadata": {},
   "source": [
    "TEST: check out the data"
   ]
  },
  {
   "cell_type": "code",
   "execution_count": 4,
   "id": "c0272565",
   "metadata": {},
   "outputs": [
    {
     "data": {
      "text/html": [
       "<div>\n",
       "<style scoped>\n",
       "    .dataframe tbody tr th:only-of-type {\n",
       "        vertical-align: middle;\n",
       "    }\n",
       "\n",
       "    .dataframe tbody tr th {\n",
       "        vertical-align: top;\n",
       "    }\n",
       "\n",
       "    .dataframe thead th {\n",
       "        text-align: right;\n",
       "    }\n",
       "</style>\n",
       "<table border=\"1\" class=\"dataframe\">\n",
       "  <thead>\n",
       "    <tr style=\"text-align: right;\">\n",
       "      <th></th>\n",
       "      <th>Unnamed: 0</th>\n",
       "      <th>Free Guy</th>\n",
       "      <th>Kate</th>\n",
       "      <th>Cruella</th>\n",
       "      <th>Black Widow</th>\n",
       "      <th>Jungle Cruise</th>\n",
       "      <th>Half Brothers</th>\n",
       "    </tr>\n",
       "  </thead>\n",
       "  <tbody>\n",
       "    <tr>\n",
       "      <th>0</th>\n",
       "      <td>Paul</td>\n",
       "      <td>4.8</td>\n",
       "      <td>NaN</td>\n",
       "      <td>NaN</td>\n",
       "      <td>3.7</td>\n",
       "      <td>NaN</td>\n",
       "      <td>NaN</td>\n",
       "    </tr>\n",
       "    <tr>\n",
       "      <th>1</th>\n",
       "      <td>Peter</td>\n",
       "      <td>4.9</td>\n",
       "      <td>NaN</td>\n",
       "      <td>NaN</td>\n",
       "      <td>4.0</td>\n",
       "      <td>4.0</td>\n",
       "      <td>NaN</td>\n",
       "    </tr>\n",
       "    <tr>\n",
       "      <th>2</th>\n",
       "      <td>Nisha</td>\n",
       "      <td>4.0</td>\n",
       "      <td>3.5</td>\n",
       "      <td>3.8</td>\n",
       "      <td>4.2</td>\n",
       "      <td>4.1</td>\n",
       "      <td>2.8</td>\n",
       "    </tr>\n",
       "    <tr>\n",
       "      <th>3</th>\n",
       "      <td>May</td>\n",
       "      <td>NaN</td>\n",
       "      <td>4.5</td>\n",
       "      <td>5.0</td>\n",
       "      <td>NaN</td>\n",
       "      <td>3.0</td>\n",
       "      <td>NaN</td>\n",
       "    </tr>\n",
       "    <tr>\n",
       "      <th>4</th>\n",
       "      <td>John</td>\n",
       "      <td>4.7</td>\n",
       "      <td>3.5</td>\n",
       "      <td>3.4</td>\n",
       "      <td>2.5</td>\n",
       "      <td>3.9</td>\n",
       "      <td>4.0</td>\n",
       "    </tr>\n",
       "  </tbody>\n",
       "</table>\n",
       "</div>"
      ],
      "text/plain": [
       "  Unnamed: 0  Free Guy  Kate  Cruella  Black Widow  Jungle Cruise  \\\n",
       "0       Paul       4.8   NaN      NaN          3.7            NaN   \n",
       "1      Peter       4.9   NaN      NaN          4.0            4.0   \n",
       "2      Nisha       4.0   3.5      3.8          4.2            4.1   \n",
       "3        May       NaN   4.5      5.0          NaN            3.0   \n",
       "4       John       4.7   3.5      3.4          2.5            3.9   \n",
       "\n",
       "   Half Brothers  \n",
       "0            NaN  \n",
       "1            NaN  \n",
       "2            2.8  \n",
       "3            NaN  \n",
       "4            4.0  "
      ]
     },
     "execution_count": 4,
     "metadata": {},
     "output_type": "execute_result"
    }
   ],
   "source": [
    "ratings.head()"
   ]
  },
  {
   "cell_type": "markdown",
   "id": "08adceab",
   "metadata": {},
   "source": [
    "CHANGE: to remove index column created above, will use \"index_col=0\""
   ]
  },
  {
   "cell_type": "code",
   "execution_count": 5,
   "id": "c28a2e69",
   "metadata": {},
   "outputs": [],
   "source": [
    "ratings = pan.read_csv(\"C:/Users/lang/Desktop/SPS/IS362/week7/movies.csv\", index_col = 0)"
   ]
  },
  {
   "cell_type": "code",
   "execution_count": 6,
   "id": "efa5172a",
   "metadata": {},
   "outputs": [
    {
     "data": {
      "text/html": [
       "<div>\n",
       "<style scoped>\n",
       "    .dataframe tbody tr th:only-of-type {\n",
       "        vertical-align: middle;\n",
       "    }\n",
       "\n",
       "    .dataframe tbody tr th {\n",
       "        vertical-align: top;\n",
       "    }\n",
       "\n",
       "    .dataframe thead th {\n",
       "        text-align: right;\n",
       "    }\n",
       "</style>\n",
       "<table border=\"1\" class=\"dataframe\">\n",
       "  <thead>\n",
       "    <tr style=\"text-align: right;\">\n",
       "      <th></th>\n",
       "      <th>Free Guy</th>\n",
       "      <th>Kate</th>\n",
       "      <th>Cruella</th>\n",
       "      <th>Black Widow</th>\n",
       "      <th>Jungle Cruise</th>\n",
       "      <th>Half Brothers</th>\n",
       "    </tr>\n",
       "  </thead>\n",
       "  <tbody>\n",
       "    <tr>\n",
       "      <th>Paul</th>\n",
       "      <td>4.8</td>\n",
       "      <td>NaN</td>\n",
       "      <td>NaN</td>\n",
       "      <td>3.7</td>\n",
       "      <td>NaN</td>\n",
       "      <td>NaN</td>\n",
       "    </tr>\n",
       "    <tr>\n",
       "      <th>Peter</th>\n",
       "      <td>4.9</td>\n",
       "      <td>NaN</td>\n",
       "      <td>NaN</td>\n",
       "      <td>4.0</td>\n",
       "      <td>4.0</td>\n",
       "      <td>NaN</td>\n",
       "    </tr>\n",
       "    <tr>\n",
       "      <th>Nisha</th>\n",
       "      <td>4.0</td>\n",
       "      <td>3.5</td>\n",
       "      <td>3.8</td>\n",
       "      <td>4.2</td>\n",
       "      <td>4.1</td>\n",
       "      <td>2.8</td>\n",
       "    </tr>\n",
       "    <tr>\n",
       "      <th>May</th>\n",
       "      <td>NaN</td>\n",
       "      <td>4.5</td>\n",
       "      <td>5.0</td>\n",
       "      <td>NaN</td>\n",
       "      <td>3.0</td>\n",
       "      <td>NaN</td>\n",
       "    </tr>\n",
       "    <tr>\n",
       "      <th>John</th>\n",
       "      <td>4.7</td>\n",
       "      <td>3.5</td>\n",
       "      <td>3.4</td>\n",
       "      <td>2.5</td>\n",
       "      <td>3.9</td>\n",
       "      <td>4.0</td>\n",
       "    </tr>\n",
       "  </tbody>\n",
       "</table>\n",
       "</div>"
      ],
      "text/plain": [
       "       Free Guy  Kate  Cruella  Black Widow  Jungle Cruise  Half Brothers\n",
       "Paul        4.8   NaN      NaN          3.7            NaN            NaN\n",
       "Peter       4.9   NaN      NaN          4.0            4.0            NaN\n",
       "Nisha       4.0   3.5      3.8          4.2            4.1            2.8\n",
       "May         NaN   4.5      5.0          NaN            3.0            NaN\n",
       "John        4.7   3.5      3.4          2.5            3.9            4.0"
      ]
     },
     "execution_count": 6,
     "metadata": {},
     "output_type": "execute_result"
    }
   ],
   "source": [
    "ratings.head()"
   ]
  },
  {
   "cell_type": "markdown",
   "id": "3c02510c",
   "metadata": {},
   "source": [
    "2. Show average ratings for each user and each movie by using Pandas mean() method."
   ]
  },
  {
   "cell_type": "code",
   "execution_count": 7,
   "id": "a4fa826e",
   "metadata": {},
   "outputs": [],
   "source": [
    "avg_rate_user = ratings.mean(axis = 1 )"
   ]
  },
  {
   "cell_type": "markdown",
   "id": "76063b53",
   "metadata": {},
   "source": [
    "TEST: Let's see the average ratings for user."
   ]
  },
  {
   "cell_type": "code",
   "execution_count": 8,
   "id": "42c11548",
   "metadata": {},
   "outputs": [
    {
     "data": {
      "text/plain": [
       "Paul     4.250000\n",
       "Peter    4.300000\n",
       "Nisha    3.733333\n",
       "May      4.166667\n",
       "John     3.666667\n",
       "dtype: float64"
      ]
     },
     "execution_count": 8,
     "metadata": {},
     "output_type": "execute_result"
    }
   ],
   "source": [
    "avg_rate_user"
   ]
  },
  {
   "cell_type": "code",
   "execution_count": 9,
   "id": "bbafb431",
   "metadata": {},
   "outputs": [],
   "source": [
    "avg_rate_movie = ratings.mean()"
   ]
  },
  {
   "cell_type": "markdown",
   "id": "2f3b26f8",
   "metadata": {},
   "source": [
    "TEST: Let's see the average ratings for movie."
   ]
  },
  {
   "cell_type": "code",
   "execution_count": 10,
   "id": "c835813c",
   "metadata": {},
   "outputs": [
    {
     "data": {
      "text/plain": [
       "Free Guy         4.600000\n",
       "Kate             3.833333\n",
       "Cruella          4.066667\n",
       "Black Widow      3.600000\n",
       "Jungle Cruise    3.750000\n",
       "Half Brothers    3.400000\n",
       "dtype: float64"
      ]
     },
     "execution_count": 10,
     "metadata": {},
     "output_type": "execute_result"
    }
   ],
   "source": [
    "avg_rate_movie"
   ]
  },
  {
   "attachments": {
    "normalize.png": {
     "image/png": "[encoded data removed]"
    }
   },
   "cell_type": "markdown",
   "id": "847ef5aa",
   "metadata": {},
   "source": [
    "3. create new pandas dataframe, with normalized ratings for each user. show average of each user and movie. \n",
    "![normalize.png](attachment:normalize.png)"
   ]
  },
  {
   "cell_type": "code",
   "execution_count": 11,
   "id": "418b72bb",
   "metadata": {},
   "outputs": [],
   "source": [
    "Norm_ratings = (ratings - ratings.min())  /  (ratings.max()  - ratings.min())"
   ]
  },
  {
   "cell_type": "markdown",
   "id": "481f27cf",
   "metadata": {},
   "source": [
    "TEST: Let's see the normalized ratings"
   ]
  },
  {
   "cell_type": "code",
   "execution_count": 12,
   "id": "74004b06",
   "metadata": {},
   "outputs": [
    {
     "data": {
      "text/html": [
       "<div>\n",
       "<style scoped>\n",
       "    .dataframe tbody tr th:only-of-type {\n",
       "        vertical-align: middle;\n",
       "    }\n",
       "\n",
       "    .dataframe tbody tr th {\n",
       "        vertical-align: top;\n",
       "    }\n",
       "\n",
       "    .dataframe thead th {\n",
       "        text-align: right;\n",
       "    }\n",
       "</style>\n",
       "<table border=\"1\" class=\"dataframe\">\n",
       "  <thead>\n",
       "    <tr style=\"text-align: right;\">\n",
       "      <th></th>\n",
       "      <th>Free Guy</th>\n",
       "      <th>Kate</th>\n",
       "      <th>Cruella</th>\n",
       "      <th>Black Widow</th>\n",
       "      <th>Jungle Cruise</th>\n",
       "      <th>Half Brothers</th>\n",
       "    </tr>\n",
       "  </thead>\n",
       "  <tbody>\n",
       "    <tr>\n",
       "      <th>Paul</th>\n",
       "      <td>0.888889</td>\n",
       "      <td>NaN</td>\n",
       "      <td>NaN</td>\n",
       "      <td>0.705882</td>\n",
       "      <td>NaN</td>\n",
       "      <td>NaN</td>\n",
       "    </tr>\n",
       "    <tr>\n",
       "      <th>Peter</th>\n",
       "      <td>1.000000</td>\n",
       "      <td>NaN</td>\n",
       "      <td>NaN</td>\n",
       "      <td>0.882353</td>\n",
       "      <td>0.909091</td>\n",
       "      <td>NaN</td>\n",
       "    </tr>\n",
       "    <tr>\n",
       "      <th>Nisha</th>\n",
       "      <td>0.000000</td>\n",
       "      <td>0.0</td>\n",
       "      <td>0.25</td>\n",
       "      <td>1.000000</td>\n",
       "      <td>1.000000</td>\n",
       "      <td>0.0</td>\n",
       "    </tr>\n",
       "    <tr>\n",
       "      <th>May</th>\n",
       "      <td>NaN</td>\n",
       "      <td>1.0</td>\n",
       "      <td>1.00</td>\n",
       "      <td>NaN</td>\n",
       "      <td>0.000000</td>\n",
       "      <td>NaN</td>\n",
       "    </tr>\n",
       "    <tr>\n",
       "      <th>John</th>\n",
       "      <td>0.777778</td>\n",
       "      <td>0.0</td>\n",
       "      <td>0.00</td>\n",
       "      <td>0.000000</td>\n",
       "      <td>0.818182</td>\n",
       "      <td>1.0</td>\n",
       "    </tr>\n",
       "  </tbody>\n",
       "</table>\n",
       "</div>"
      ],
      "text/plain": [
       "       Free Guy  Kate  Cruella  Black Widow  Jungle Cruise  Half Brothers\n",
       "Paul   0.888889   NaN      NaN     0.705882            NaN            NaN\n",
       "Peter  1.000000   NaN      NaN     0.882353       0.909091            NaN\n",
       "Nisha  0.000000   0.0     0.25     1.000000       1.000000            0.0\n",
       "May         NaN   1.0     1.00          NaN       0.000000            NaN\n",
       "John   0.777778   0.0     0.00     0.000000       0.818182            1.0"
      ]
     },
     "execution_count": 12,
     "metadata": {},
     "output_type": "execute_result"
    }
   ],
   "source": [
    "Norm_ratings"
   ]
  },
  {
   "cell_type": "markdown",
   "id": "9c00f89c",
   "metadata": {},
   "source": [
    "3.1: Normalized Average Ratings By User"
   ]
  },
  {
   "cell_type": "code",
   "execution_count": 13,
   "id": "38dcc5a9",
   "metadata": {},
   "outputs": [],
   "source": [
    "norm_avg_rate_user = Norm_ratings.mean(axis = 1)"
   ]
  },
  {
   "cell_type": "markdown",
   "id": "f6f65c99",
   "metadata": {},
   "source": [
    "TEST: Let's see the normalized average ratings by user"
   ]
  },
  {
   "cell_type": "code",
   "execution_count": 14,
   "id": "4b7a2b37",
   "metadata": {},
   "outputs": [
    {
     "data": {
      "text/plain": [
       "Paul     0.797386\n",
       "Peter    0.930481\n",
       "Nisha    0.375000\n",
       "May      0.666667\n",
       "John     0.432660\n",
       "dtype: float64"
      ]
     },
     "execution_count": 14,
     "metadata": {},
     "output_type": "execute_result"
    }
   ],
   "source": [
    "norm_avg_rate_user"
   ]
  },
  {
   "cell_type": "code",
   "execution_count": null,
   "id": "f7f6d76d",
   "metadata": {},
   "outputs": [],
   "source": [
    "3.2: Normalized Average Ratings By Movie"
   ]
  },
  {
   "cell_type": "code",
   "execution_count": 15,
   "id": "c9131082",
   "metadata": {},
   "outputs": [],
   "source": [
    "norm_avg_rate_movie = Norm_ratings.mean()"
   ]
  },
  {
   "cell_type": "markdown",
   "id": "7b53329b",
   "metadata": {},
   "source": [
    "TEST: Let's see the normalized average ratings by movie"
   ]
  },
  {
   "cell_type": "code",
   "execution_count": 16,
   "id": "2b0811b2",
   "metadata": {},
   "outputs": [
    {
     "data": {
      "text/plain": [
       "Free Guy         0.666667\n",
       "Kate             0.333333\n",
       "Cruella          0.416667\n",
       "Black Widow      0.647059\n",
       "Jungle Cruise    0.681818\n",
       "Half Brothers    0.500000\n",
       "dtype: float64"
      ]
     },
     "execution_count": 16,
     "metadata": {},
     "output_type": "execute_result"
    }
   ],
   "source": [
    "norm_avg_rate_movie"
   ]
  },
  {
   "cell_type": "markdown",
   "id": "9ac57ce2",
   "metadata": {},
   "source": [
    "4. provide text-based conclusion: explain what might be advantages and disadvanatges of using normalized ratings instead of actual ratings."
   ]
  },
  {
   "cell_type": "markdown",
   "id": "af3be8a0",
   "metadata": {},
   "source": [
    "In general: One of the biggest impacts of normalizing your data is reducing the number of duplicates in your database. \n",
    "Normalizing your data before matching and merging duplicates will make it easier to find the duplicates.\n",
    "By using the min & max scaling in normalizing data, the result is influenced by the min and max values in the data which return a result with something that is biased.\n",
    "In this movies ratings data case, actual ratings will be much simpler and correct for daily users."
   ]
  },
  {
   "attachments": {
    "standardrize.png": {
     "image/png": "[encoded data removed]"
    }
   },
   "cell_type": "markdown",
   "id": "b5db26d5",
   "metadata": {},
   "source": [
    "5. (extra credit) create another dataframe, with standardized ratings for each user. show average ratings for each user and movie. \n",
    "We will use code/formula from https://www.statology.org/standardize-data-python/\n",
    "![standardrize.png](attachment:standardrize.png)"
   ]
  },
  {
   "cell_type": "code",
   "execution_count": 17,
   "id": "c54c3961",
   "metadata": {},
   "outputs": [],
   "source": [
    "Stan_ratings = (ratings - ratings.mean()) / ratings.std()"
   ]
  },
  {
   "cell_type": "markdown",
   "id": "2324c73b",
   "metadata": {},
   "source": [
    "TEST: Let's see the new standardrize data "
   ]
  },
  {
   "cell_type": "code",
   "execution_count": 18,
   "id": "4ecdc8ce",
   "metadata": {},
   "outputs": [
    {
     "data": {
      "text/html": [
       "<div>\n",
       "<style scoped>\n",
       "    .dataframe tbody tr th:only-of-type {\n",
       "        vertical-align: middle;\n",
       "    }\n",
       "\n",
       "    .dataframe tbody tr th {\n",
       "        vertical-align: top;\n",
       "    }\n",
       "\n",
       "    .dataframe thead th {\n",
       "        text-align: right;\n",
       "    }\n",
       "</style>\n",
       "<table border=\"1\" class=\"dataframe\">\n",
       "  <thead>\n",
       "    <tr style=\"text-align: right;\">\n",
       "      <th></th>\n",
       "      <th>Free Guy</th>\n",
       "      <th>Kate</th>\n",
       "      <th>Cruella</th>\n",
       "      <th>Black Widow</th>\n",
       "      <th>Jungle Cruise</th>\n",
       "      <th>Half Brothers</th>\n",
       "    </tr>\n",
       "  </thead>\n",
       "  <tbody>\n",
       "    <tr>\n",
       "      <th>Paul</th>\n",
       "      <td>0.489898</td>\n",
       "      <td>NaN</td>\n",
       "      <td>NaN</td>\n",
       "      <td>0.131306</td>\n",
       "      <td>NaN</td>\n",
       "      <td>NaN</td>\n",
       "    </tr>\n",
       "    <tr>\n",
       "      <th>Peter</th>\n",
       "      <td>0.734847</td>\n",
       "      <td>NaN</td>\n",
       "      <td>NaN</td>\n",
       "      <td>0.525226</td>\n",
       "      <td>0.493464</td>\n",
       "      <td>NaN</td>\n",
       "    </tr>\n",
       "    <tr>\n",
       "      <th>Nisha</th>\n",
       "      <td>-1.469694</td>\n",
       "      <td>-0.577350</td>\n",
       "      <td>-0.320256</td>\n",
       "      <td>0.787839</td>\n",
       "      <td>0.690849</td>\n",
       "      <td>-0.707107</td>\n",
       "    </tr>\n",
       "    <tr>\n",
       "      <th>May</th>\n",
       "      <td>NaN</td>\n",
       "      <td>1.154701</td>\n",
       "      <td>1.120897</td>\n",
       "      <td>NaN</td>\n",
       "      <td>-1.480391</td>\n",
       "      <td>NaN</td>\n",
       "    </tr>\n",
       "    <tr>\n",
       "      <th>John</th>\n",
       "      <td>0.244949</td>\n",
       "      <td>-0.577350</td>\n",
       "      <td>-0.800641</td>\n",
       "      <td>-1.444371</td>\n",
       "      <td>0.296078</td>\n",
       "      <td>0.707107</td>\n",
       "    </tr>\n",
       "  </tbody>\n",
       "</table>\n",
       "</div>"
      ],
      "text/plain": [
       "       Free Guy      Kate   Cruella  Black Widow  Jungle Cruise  Half Brothers\n",
       "Paul   0.489898       NaN       NaN     0.131306            NaN            NaN\n",
       "Peter  0.734847       NaN       NaN     0.525226       0.493464            NaN\n",
       "Nisha -1.469694 -0.577350 -0.320256     0.787839       0.690849      -0.707107\n",
       "May         NaN  1.154701  1.120897          NaN      -1.480391            NaN\n",
       "John   0.244949 -0.577350 -0.800641    -1.444371       0.296078       0.707107"
      ]
     },
     "execution_count": 18,
     "metadata": {},
     "output_type": "execute_result"
    }
   ],
   "source": [
    "Stan_ratings"
   ]
  },
  {
   "cell_type": "markdown",
   "id": "e4dd2790",
   "metadata": {},
   "source": [
    "5.1 Standardized Average Ratings By User"
   ]
  },
  {
   "cell_type": "code",
   "execution_count": 20,
   "id": "1943b899",
   "metadata": {},
   "outputs": [],
   "source": [
    "stan_avg_rate_user = ratings.mean(axis =1)"
   ]
  },
  {
   "cell_type": "markdown",
   "id": "ae175452",
   "metadata": {},
   "source": [
    "TEST: Let's see the nstandardized average ratings by user"
   ]
  },
  {
   "cell_type": "code",
   "execution_count": 21,
   "id": "c1606cce",
   "metadata": {},
   "outputs": [
    {
     "data": {
      "text/plain": [
       "Paul     4.250000\n",
       "Peter    4.300000\n",
       "Nisha    3.733333\n",
       "May      4.166667\n",
       "John     3.666667\n",
       "dtype: float64"
      ]
     },
     "execution_count": 21,
     "metadata": {},
     "output_type": "execute_result"
    }
   ],
   "source": [
    "stan_avg_rate_user"
   ]
  },
  {
   "cell_type": "markdown",
   "id": "00e75886",
   "metadata": {},
   "source": [
    "5.2 Standardized Average Ratings By Movie"
   ]
  },
  {
   "cell_type": "code",
   "execution_count": 22,
   "id": "1f7c341c",
   "metadata": {},
   "outputs": [],
   "source": [
    "stan_avg_rate_movie = ratings.mean()"
   ]
  },
  {
   "cell_type": "markdown",
   "id": "035e1276",
   "metadata": {},
   "source": [
    "TEST: Let's see the nstandardized average ratings by movie"
   ]
  },
  {
   "cell_type": "code",
   "execution_count": 23,
   "id": "d92cbc80",
   "metadata": {},
   "outputs": [
    {
     "data": {
      "text/plain": [
       "Free Guy         4.600000\n",
       "Kate             3.833333\n",
       "Cruella          4.066667\n",
       "Black Widow      3.600000\n",
       "Jungle Cruise    3.750000\n",
       "Half Brothers    3.400000\n",
       "dtype: float64"
      ]
     },
     "execution_count": 23,
     "metadata": {},
     "output_type": "execute_result"
    }
   ],
   "source": [
    "stan_avg_rate_movie"
   ]
  },
  {
   "cell_type": "markdown",
   "id": "8c3afa13",
   "metadata": {},
   "source": [
    "TEST: Let's run the \"average actual ratings of movie\" to see that it is identical to the \"stan_avg_rate_movie\" above."
   ]
  },
  {
   "cell_type": "code",
   "execution_count": 24,
   "id": "67f8360c",
   "metadata": {},
   "outputs": [
    {
     "data": {
      "text/plain": [
       "Free Guy         4.600000\n",
       "Kate             3.833333\n",
       "Cruella          4.066667\n",
       "Black Widow      3.600000\n",
       "Jungle Cruise    3.750000\n",
       "Half Brothers    3.400000\n",
       "dtype: float64"
      ]
     },
     "execution_count": 24,
     "metadata": {},
     "output_type": "execute_result"
    }
   ],
   "source": [
    "avg_rate_movie"
   ]
  },
  {
   "cell_type": "markdown",
   "id": "a02440e0",
   "metadata": {},
   "source": [
    "    While the result on average (ake. mean()) from both \"actual ratings\" and \"standardize ratings\" are the same, the data itself is different since standardizing means that it transforms the mean of the data to be 0 and variaance to be 1. \n",
    "    While standardizng data would be beneficial in many situations, in our movies ratings case, it would confuse the user as the data will be output with some negative (-) value."
   ]
  },
  {
   "cell_type": "code",
   "execution_count": null,
   "id": "f016c6e7",
   "metadata": {},
   "outputs": [],
   "source": []
  }
 ],
 "metadata": {
  "kernelspec": {
   "display_name": "Python 3",
   "language": "python",
   "name": "python3"
  },
  "language_info": {
   "codemirror_mode": {
    "name": "ipython",
    "version": 3
   },
   "file_extension": ".py",
   "mimetype": "text/x-python",
   "name": "python",
   "nbconvert_exporter": "python",
   "pygments_lexer": "ipython3",
   "version": "3.8.8"
  }
 },
 "nbformat": 4,
 "nbformat_minor": 5
}
